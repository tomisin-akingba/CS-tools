{
 "cells": [
  {
   "cell_type": "code",
   "execution_count": 1,
   "metadata": {},
   "outputs": [],
   "source": [
    "import string"
   ]
  },
  {
   "cell_type": "code",
   "execution_count": 2,
   "metadata": {},
   "outputs": [],
   "source": [
    "password = \"helloworld\""
   ]
  },
  {
   "cell_type": "code",
   "execution_count": 3,
   "metadata": {},
   "outputs": [],
   "source": [
    "upper_case = any([1 if c in string.ascii_uppercase else 0 for c in password])\n",
    "lower_case = any([1 if c in string.ascii_lowercase else 0 for c in password])\n",
    "special = any([1 if c in string.punctuation else 0 for c in password])\n",
    "digits = any([1 if c in string.digits else 0 for c in password])"
   ]
  },
  {
   "cell_type": "code",
   "execution_count": 4,
   "metadata": {},
   "outputs": [],
   "source": [
    "characters = [upper_case, lower_case, special, digits]"
   ]
  },
  {
   "cell_type": "code",
   "execution_count": 5,
   "metadata": {},
   "outputs": [],
   "source": [
    "length = len(password)\n",
    "\n"
   ]
  },
  {
   "cell_type": "code",
   "execution_count": null,
   "metadata": {},
   "outputs": [],
   "source": [
    "score = 0"
   ]
  },
  {
   "cell_type": "code",
   "execution_count": 6,
   "metadata": {},
   "outputs": [],
   "source": [
    "with open('common.txt', 'r') as f:\n",
    "    common = f.read().splitlines()"
   ]
  },
  {
   "cell_type": "code",
   "execution_count": 7,
   "metadata": {},
   "outputs": [
    {
     "name": "stdout",
     "output_type": "stream",
     "text": [
      "Password was found in a common list. Score = 0\n"
     ]
    }
   ],
   "source": [
    "if password in common:\n",
    "    print(\"Password was found in a common list. Score = 0\")\n",
    "    exit()\n",
    "\n",
    "if length > 8:\n",
    "    score += 1\n",
    "\n",
    "if length > 12:\n",
    "    score += 1\n",
    "\n",
    "if length >17:\n",
    "    score += 1\n",
    "\n",
    "if length > 20:\n",
    "    score += 1\n",
    "\n"
   ]
  },
  {
   "cell_type": "code",
   "execution_count": 8,
   "metadata": {},
   "outputs": [
    {
     "name": "stdout",
     "output_type": "stream",
     "text": [
      "Password length is 10, adding 1 points!\n"
     ]
    }
   ],
   "source": [
    "print(f\"Password length is {str(length)}, adding {str(score)} points!\")"
   ]
  },
  {
   "cell_type": "code",
   "execution_count": 9,
   "metadata": {},
   "outputs": [
    {
     "name": "stdout",
     "output_type": "stream",
     "text": [
      "Password has 1 different character types, adding 0 points\n"
     ]
    }
   ],
   "source": [
    "if sum(characters) > 1:\n",
    "    score += 1\n",
    "if sum(characters) > 2:\n",
    "    score += 1\n",
    "if sum(characters) > 3:\n",
    "    score += 1\n",
    "\n",
    "print(f\"Password has {str(sum(characters))} different character types, adding {str(sum(characters)-1)} points\")"
   ]
  },
  {
   "cell_type": "code",
   "execution_count": 10,
   "metadata": {},
   "outputs": [
    {
     "name": "stdout",
     "output_type": "stream",
     "text": [
      "Password is quite weak! Score: 1 / 7\n"
     ]
    },
    {
     "ename": "",
     "evalue": "",
     "output_type": "error",
     "traceback": [
      "\u001b[1;31mThe Kernel crashed while executing code in the current cell or a previous cell. \n",
      "\u001b[1;31mPlease review the code in the cell(s) to identify a possible cause of the failure. \n",
      "\u001b[1;31mClick <a href='https://aka.ms/vscodeJupyterKernelCrash'>here</a> for more info. \n",
      "\u001b[1;31mView Jupyter <a href='command:jupyter.viewOutput'>log</a> for further details."
     ]
    }
   ],
   "source": [
    "if score < 4:\n",
    "    print(f\"Password is quite weak! Score: {str(score)} / 7\")\n",
    "elif score == 4:\n",
    "    print(f\"Password could be stronger! Score: {str(score)} / 7\")\n",
    "elif score > 4 and score < 6:\n",
    "    print(f\"Password is pretty good! Score: {str(score)} / 7\")\n",
    "elif score > 7:\n",
    "    print(f\"Password is very strong! Score: {str(score)} / 7\")"
   ]
  }
 ],
 "metadata": {
  "kernelspec": {
   "display_name": "Python 3",
   "language": "python",
   "name": "python3"
  },
  "language_info": {
   "codemirror_mode": {
    "name": "ipython",
    "version": 3
   },
   "file_extension": ".py",
   "mimetype": "text/x-python",
   "name": "python",
   "nbconvert_exporter": "python",
   "pygments_lexer": "ipython3",
   "version": "3.12.4"
  }
 },
 "nbformat": 4,
 "nbformat_minor": 2
}
