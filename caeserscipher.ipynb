{
 "cells": [
  {
   "cell_type": "code",
   "execution_count": 1,
   "metadata": {},
   "outputs": [],
   "source": [
    "letters = 'abcdefghijklmnopqrstuvwxyz'\n",
    "num_letters = len(letters)\n",
    "def encrypt(plaintext, key):\n",
    "    ciphertext= \" \"\n",
    "    for letter in plaintext:\n",
    "        letter = letter.lower()\n",
    "        if not letter == \" \":\n",
    "            index = letters.find(letter)\n",
    "            if index == -1:\n",
    "                ciphertext += letter\n",
    "            else:\n",
    "                new_index = index + key\n",
    "                if new_index >= num_letters:\n",
    "                    new_index -= num_letters\n",
    "                ciphertext += letters[new_index]\n",
    "    return ciphertext"
   ]
  },
  {
   "cell_type": "code",
   "execution_count": 2,
   "metadata": {},
   "outputs": [],
   "source": [
    "def decrypt(ciphertext, key):\n",
    "    plaintext= \" \"\n",
    "    for letter in ciphertext:\n",
    "        letter = letter.lower()\n",
    "        if not letter == \" \":\n",
    "            index = letters.find(letter)\n",
    "            if index == -1:\n",
    "                plaintext += letter\n",
    "            else:\n",
    "                new_index = index + key\n",
    "                if new_index >= num_letters:\n",
    "                    new_index -= num_letters\n",
    "                plaintext += letters[new_index]\n",
    "    return plaintext"
   ]
  },
  {
   "cell_type": "code",
   "execution_count": 3,
   "metadata": {},
   "outputs": [
    {
     "name": "stdout",
     "output_type": "stream",
     "text": [
      "\n",
      "***CAESER CIPHER***\n"
     ]
    }
   ],
   "source": [
    "print()\n",
    "print(\"***CAESER CIPHER***\")"
   ]
  },
  {
   "cell_type": "code",
   "execution_count": 4,
   "metadata": {},
   "outputs": [
    {
     "name": "stdout",
     "output_type": "stream",
     "text": [
      "Do you want to encrypt or decrypt?\n"
     ]
    }
   ],
   "source": [
    "print(\"Do you want to encrypt or decrypt?\")"
   ]
  },
  {
   "cell_type": "code",
   "execution_count": 5,
   "metadata": {},
   "outputs": [
    {
     "name": "stdout",
     "output_type": "stream",
     "text": [
      "\n"
     ]
    }
   ],
   "source": [
    "user_input = input(\"e/d: \").lower()\n",
    "print()"
   ]
  },
  {
   "cell_type": "code",
   "execution_count": 6,
   "metadata": {},
   "outputs": [
    {
     "name": "stdout",
     "output_type": "stream",
     "text": [
      "ENCRYPTION MODE ACTIVATED\n",
      "\n",
      "CIPHERTEXT:  ytrnxns\n"
     ]
    }
   ],
   "source": [
    "if user_input == \"e\":\n",
    "    print(\"ENCRYPTION MODE ACTIVATED\")\n",
    "    print()\n",
    "    key = int(input(\"Enter the key(Pick from 1 to 26: )\"))\n",
    "    text = input(\"Enter the text to encrypt: \")\n",
    "    ciphertext = encrypt(text, key)\n",
    "    print(f'CIPHERTEXT: {ciphertext}')\n",
    "elif user_input == \"d\":\n",
    "    print(\"DECRYPTION MODE ACTIVATED\")\n",
    "    print()\n",
    "    key = int(input(\"Enter the key(Pick from 1 to 26: )\"))\n",
    "    text = input(\"Enter the text to decrypt: \")\n",
    "    plaintext = decrypt(text, key)\n",
    "    print(f'PLAINTEXT: {plaintext}')"
   ]
  },
  {
   "cell_type": "code",
   "execution_count": null,
   "metadata": {},
   "outputs": [],
   "source": [
    "\n"
   ]
  }
 ],
 "metadata": {
  "kernelspec": {
   "display_name": "Python 3",
   "language": "python",
   "name": "python3"
  },
  "language_info": {
   "codemirror_mode": {
    "name": "ipython",
    "version": 3
   },
   "file_extension": ".py",
   "mimetype": "text/x-python",
   "name": "python",
   "nbconvert_exporter": "python",
   "pygments_lexer": "ipython3",
   "version": "3.12.4"
  }
 },
 "nbformat": 4,
 "nbformat_minor": 2
}
